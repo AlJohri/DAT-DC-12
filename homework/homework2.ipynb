{
 "cells": [
  {
   "cell_type": "markdown",
   "metadata": {},
   "source": [
    "# Homework 2\n",
    "\n",
    "1. Follow the README in Brandon Rhodes' [Pycon Pandas Tutorial](https://github.com/brandon-rhodes/pycon-pandas-tutorial). The steps are briefly summarised below.\n",
    "\n",
    "  1. Clone the `pycon-pandas-tutorial` repository.\n",
    "  2. Download the data: `actors.list.gz`, `actresses.list.gz`, `genres.list.gz`, and `release-dates.list.gz`.\n",
    "  3. Move the data files into the `build` folder of the repository.\n",
    "  4. Run the build script from the terminal.\n",
    "  \n",
    "2. Complete `Exercises-1.ipynb`.\n",
    "\n",
    "3. After completing the exercise, copy it into the `workspace` folder of the DAT-DC-12 repository. Commit and push the code.\n",
    "\n",
    "4. [**OPTIONAL**] You'll notice that trying to run the `Exercises-1.ipynb` notebook from the workspace folder will result in an error. It will no longer find the needed csv files. To fix this: Copy the three csv data files (`titles.csv`, `release_dates.csv`, and `cast.csv`) into the `data` folder of the class repository . Then, in `Exercises-1.ipynb` change the line that reads the csv from `data/titles.csv` to `../data/titles.csv`. By adding the `..` in the front we can now run the notebook from the workspace folder.\n",
    "\n",
    "This is what my Terminal output looks like for Step 4.\n",
    "\n",
    "```\n",
    "➜   Development  pwd\n",
    "/Users/johria/Development\n",
    "➜   Development  cd DAT-DC-12\n",
    "➜   DAT-DC-12 [master]  pwd\n",
    "/Users/johria/Development/DAT-DC-12\n",
    "➜   DAT-DC-12 [master]  cd ..\n",
    "➜   Development  cd pycon-pandas-tutorial\n",
    "➜   pycon-pandas-tutorial [master]  pwd\n",
    "/Users/johria/Development/pycon-pandas-tutorial\n",
    "➜   pycon-pandas-tutorial [master]  cd ..\n",
    "➜   Development  cp pycon-pandas-tutorial/data/titles.csv DAT-DC-12/data\n",
    "'pycon-pandas-tutorial/data/titles.csv' -> 'DAT-DC-12/data/titles.csv'\n",
    "➜   Development  cp pycon-pandas-tutorial/data/release_dates.csv DAT-DC-12/data\n",
    "'pycon-pandas-tutorial/data/release_dates.csv' -> 'DAT-DC-12/data/release_dates.csv'\n",
    "➜   Development  cp pycon-pandas-tutorial/data/cast.csv DAT-DC-12/data\n",
    "'pycon-pandas-tutorial/data/cast.csv' -> 'DAT-DC-12/data/cast.csv'\n",
    "```\n",
    "\n",
    "\n",
    "Notes:\n",
    "- Do not clone a repository inside of another repository.\n",
    "- Do not extract the \".gz\" files after downloading. Move them as is.\n",
    "- Please contact me if you're having issues downloading the files from the links provided in the the tutorial's README. Some students run into authentication issues.\n",
    "- Run terminal commands in the terminal - not spyder or jupyter notebook. When reading technical documentation, terminal commands often are shown with a \"\\$ \" in the front singifying that they are to be in the terminal. In addition, any command that starts with `python` is generally to be run in the terminal.\n",
    "\n",
    "If you missed class, please watch [Brandon's Pandas Tutorial Video from Pycon 2015 in Montréal](https://www.youtube.com/watch?v=5JnMutdy6Fw).\n",
    "\n",
    "Brandon Rhodes ([Website](http://rhodesmill.org/brandon/) | [Twitter](https://twitter.com/brandon_rhodes) | [Github](https://github.com/brandon-rhodes) | [StackOverflow](http://stackoverflow.com/users/85360/brandon-rhodes))"
   ]
  }
 ],
 "metadata": {
  "kernelspec": {
   "display_name": "Python 3",
   "language": "python",
   "name": "python3"
  },
  "language_info": {
   "codemirror_mode": {
    "name": "ipython",
    "version": 3
   },
   "file_extension": ".py",
   "mimetype": "text/x-python",
   "name": "python",
   "nbconvert_exporter": "python",
   "pygments_lexer": "ipython3",
   "version": "3.5.1"
  }
 },
 "nbformat": 4,
 "nbformat_minor": 0
}
