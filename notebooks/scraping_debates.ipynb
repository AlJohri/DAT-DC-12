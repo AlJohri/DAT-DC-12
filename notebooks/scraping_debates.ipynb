{
 "cells": [
  {
   "cell_type": "code",
   "execution_count": 61,
   "metadata": {
    "collapsed": false
   },
   "outputs": [],
   "source": [
    "import requests, lxml.html\n",
    "import pandas as pd"
   ]
  },
  {
   "cell_type": "code",
   "execution_count": 62,
   "metadata": {
    "collapsed": false,
    "scrolled": true
   },
   "outputs": [
    {
     "data": {
      "text/html": [
       "<div>\n",
       "<table border=\"1\" class=\"dataframe\">\n",
       "  <thead>\n",
       "    <tr style=\"text-align: right;\">\n",
       "      <th></th>\n",
       "      <th>date</th>\n",
       "      <th>debate</th>\n",
       "      <th>link</th>\n",
       "    </tr>\n",
       "  </thead>\n",
       "  <tbody>\n",
       "    <tr>\n",
       "      <th>0</th>\n",
       "      <td>October 19th, 2016</td>\n",
       "      <td>Presidential Debate at the University of Nevad...</td>\n",
       "      <td></td>\n",
       "    </tr>\n",
       "    <tr>\n",
       "      <th>1</th>\n",
       "      <td>October 9th, 2016</td>\n",
       "      <td>Presidential Debate at Washington University i...</td>\n",
       "      <td></td>\n",
       "    </tr>\n",
       "    <tr>\n",
       "      <th>2</th>\n",
       "      <td>September 26th, 2016</td>\n",
       "      <td>Presidential Debate at Wright State University...</td>\n",
       "      <td></td>\n",
       "    </tr>\n",
       "    <tr>\n",
       "      <th>3</th>\n",
       "      <td>October 4th, 2016</td>\n",
       "      <td>Vice Presidential Debate at Longwood Universit...</td>\n",
       "      <td></td>\n",
       "    </tr>\n",
       "    <tr>\n",
       "      <th>4</th>\n",
       "      <td>April 14th, 2016</td>\n",
       "      <td>Democratic Candidates Debate in Brooklyn, New ...</td>\n",
       "      <td>http://www.presidency.ucsb.edu/ws/index.php?pi...</td>\n",
       "    </tr>\n",
       "    <tr>\n",
       "      <th>5</th>\n",
       "      <td>March 9th, 2016</td>\n",
       "      <td>Democratic Candidates Debate in Miami, Florida</td>\n",
       "      <td>http://www.presidency.ucsb.edu/ws/index.php?pi...</td>\n",
       "    </tr>\n",
       "    <tr>\n",
       "      <th>6</th>\n",
       "      <td>March 6th, 2016</td>\n",
       "      <td>Democratic Candidates Debate in Flint, Michigan</td>\n",
       "      <td>http://www.presidency.ucsb.edu/ws/index.php?pi...</td>\n",
       "    </tr>\n",
       "    <tr>\n",
       "      <th>7</th>\n",
       "      <td>February 11th, 2016</td>\n",
       "      <td>Democratic Candidates Debate in Milwaukee, Wis...</td>\n",
       "      <td>http://www.presidency.ucsb.edu/ws/index.php?pi...</td>\n",
       "    </tr>\n",
       "    <tr>\n",
       "      <th>8</th>\n",
       "      <td>February 4th, 2016</td>\n",
       "      <td>Democratic Candidates Debate in Durham, New Ha...</td>\n",
       "      <td>http://www.presidency.ucsb.edu/ws/index.php?pi...</td>\n",
       "    </tr>\n",
       "    <tr>\n",
       "      <th>9</th>\n",
       "      <td>January 17th, 2016</td>\n",
       "      <td>Democratic Candidates Debate in Charleston, So...</td>\n",
       "      <td>http://www.presidency.ucsb.edu/ws/index.php?pi...</td>\n",
       "    </tr>\n",
       "  </tbody>\n",
       "</table>\n",
       "</div>"
      ],
      "text/plain": [
       "                   date                                             debate  \\\n",
       "0    October 19th, 2016  Presidential Debate at the University of Nevad...   \n",
       "1     October 9th, 2016  Presidential Debate at Washington University i...   \n",
       "2  September 26th, 2016  Presidential Debate at Wright State University...   \n",
       "3     October 4th, 2016  Vice Presidential Debate at Longwood Universit...   \n",
       "4      April 14th, 2016  Democratic Candidates Debate in Brooklyn, New ...   \n",
       "5       March 9th, 2016     Democratic Candidates Debate in Miami, Florida   \n",
       "6       March 6th, 2016    Democratic Candidates Debate in Flint, Michigan   \n",
       "7   February 11th, 2016  Democratic Candidates Debate in Milwaukee, Wis...   \n",
       "8    February 4th, 2016  Democratic Candidates Debate in Durham, New Ha...   \n",
       "9    January 17th, 2016  Democratic Candidates Debate in Charleston, So...   \n",
       "\n",
       "                                                link  \n",
       "0                                                     \n",
       "1                                                     \n",
       "2                                                     \n",
       "3                                                     \n",
       "4  http://www.presidency.ucsb.edu/ws/index.php?pi...  \n",
       "5  http://www.presidency.ucsb.edu/ws/index.php?pi...  \n",
       "6  http://www.presidency.ucsb.edu/ws/index.php?pi...  \n",
       "7  http://www.presidency.ucsb.edu/ws/index.php?pi...  \n",
       "8  http://www.presidency.ucsb.edu/ws/index.php?pi...  \n",
       "9  http://www.presidency.ucsb.edu/ws/index.php?pi...  "
      ]
     },
     "execution_count": 62,
     "metadata": {},
     "output_type": "execute_result"
    }
   ],
   "source": [
    "response = requests.get(\"http://www.presidency.ucsb.edu/debates.php\")\n",
    "doc = lxml.html.fromstring(response.content)\n",
    "rows = []\n",
    "for el in doc.cssselect(\"td.doctext\"):\n",
    "    row = el.getparent()\n",
    "    date = row.cssselect(\"td.docdate\")[0].text_content()\n",
    "    debate = row.cssselect(\"td.doctext\")[0].text_content()\n",
    "    link = \"\"\n",
    "    if row.cssselect(\"td.doctext a\"):\n",
    "        link = row.cssselect(\"td.doctext a\")[0].get('href')\n",
    "    row = [date, debate, link]\n",
    "    rows.append(row)\n",
    "df = pd.DataFrame(rows, columns=['date', 'debate', 'link'])\n",
    "df.head(10)"
   ]
  }
 ],
 "metadata": {
  "kernelspec": {
   "display_name": "Python 3",
   "language": "python",
   "name": "python3"
  },
  "language_info": {
   "codemirror_mode": {
    "name": "ipython",
    "version": 3
   },
   "file_extension": ".py",
   "mimetype": "text/x-python",
   "name": "python",
   "nbconvert_exporter": "python",
   "pygments_lexer": "ipython3",
   "version": "3.5.1"
  }
 },
 "nbformat": 4,
 "nbformat_minor": 0
}
