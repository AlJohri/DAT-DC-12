{
 "cells": [
  {
   "cell_type": "markdown",
   "metadata": {},
   "source": [
    "# Introduction to Git"
   ]
  },
  {
   "cell_type": "markdown",
   "metadata": {},
   "source": [
    "Excellent step by step Git tutorial: http://gitref.org/"
   ]
  },
  {
   "cell_type": "markdown",
   "metadata": {},
   "source": [
    "Replace _yourusername_ below with your username when running commands.\n",
    "\n",
    "1. Generate ssh keys by following these instructions: https://help.github.com/articles/generating-an-ssh-key/\n",
    "2. Go to your Github profile (github.com/yourusername) and create a new repository called `test-repo` by clicking on the plus sign on the top right.\n",
    "3. Now you should have a new repository at https://github.com/yourusername/test-repo.\n",
    "4. Clone the repository using the **SSH** link not the HTTPS link. The command looks like this:\n",
    "\n",
    "   ```\n",
    "   git clone git@github.com:yourusername/test-repo.git\n",
    "   ```\n",
    "   \n",
    "   It will say \"You appear to have cloned an empty repository.\"\n",
    "\n",
    "5. Add a blank file to the repository using the `touch` command. Be sure that you're current working directory (`pwd`) is the repository `test-repo`.\n",
    "\n",
    "   ```\n",
    "   touch README.md\n",
    "   ```\n",
    "   \n",
    "6. Edit README.md using your favorite text editor (mine is Sublime Text 3) and add one line with the text, \"Hello GA\".\n",
    "7. Run `git status` to view the changes. You will see one new \"Untracked File\".\n",
    "8. Run `git add README.md` followed by `git status`. You will see \"Changes to be committed\" and on the next line \"new file:   README.md\".\n",
    "9. Run `git commit -m \"initial commit\"` followed by `git push` and `git status`. You will see \"Your branch is up-to-date with 'origin/master'.\"\n",
    "10. Run `git remote -v` to see what \"origin\" is defined as.\n",
    "11. Navigate to the git repository's url on github: github.com/yourusername/test-repo to see your changes.\n",
    "12. Edit \"README.md\" in your favorite text editor to add a new line, \"Goodbye GA\". You will see \"Changes not staged for commit\".\n",
    "13. Run `git add README.md` and `git status`.\n",
    "14. Run `git commit -m \"my second commit\"` followed by `git status` and then `git push`.\n",
    "15. Observe the changes online once again. Look at the diff for your last commit."
   ]
  },
  {
   "cell_type": "markdown",
   "metadata": {},
   "source": [
    "- Reference of Git Commands: http://www.dataschool.io/git-quick-reference-for-beginners/\n",
    "- Excellent book if you want to read about git in more detail: https://git-scm.com/book/en/v2"
   ]
  }
 ],
 "metadata": {
  "kernelspec": {
   "display_name": "Python 3",
   "language": "python",
   "name": "python3"
  },
  "language_info": {
   "codemirror_mode": {
    "name": "ipython",
    "version": 3
   },
   "file_extension": ".py",
   "mimetype": "text/x-python",
   "name": "python",
   "nbconvert_exporter": "python",
   "pygments_lexer": "ipython3",
   "version": "3.5.1"
  }
 },
 "nbformat": 4,
 "nbformat_minor": 0
}
